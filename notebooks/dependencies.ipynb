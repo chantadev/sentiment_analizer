{
 "cells": [
  {
   "cell_type": "markdown",
   "id": "fab4f27f",
   "metadata": {},
   "source": [
    "# Dependencies Test\n",
    "\n",
    "This notebook tests the basic dependencies for the MultiLang Sentiment Analyzer."
   ]
  },
  {
   "cell_type": "code",
   "execution_count": null,
   "id": "fa718a3f",
   "metadata": {},
   "outputs": [],
   "source": [
    "import sys\n",
    "# Currently we are using Python 3.12.6\n",
    "print(\"Python version:\", sys.version)"
   ]
  },
  {
   "cell_type": "markdown",
   "id": "5f8d6f94",
   "metadata": {},
   "source": [
    "# Machine Learning and Natural Processing Language  "
   ]
  },
  {
   "cell_type": "code",
   "execution_count": null,
   "id": "d72f3014",
   "metadata": {},
   "outputs": [],
   "source": [
    "# PyTorch\n",
    "\n",
    "import torch\n",
    "\n",
    "print(\"PyTorch version:\", torch.__version__)\n",
    "if torch.cuda.is_available():\n",
    "    print(\"CUDA version:\", torch.version.cuda)\n",
    "    print(\"Number of GPUs:\", torch.cuda.device_count())\n",
    "    for i in range(torch.cuda.device_count()):\n",
    "        print(f\"GPU {i}: {torch.cuda.get_device_name(i)}\")\n",
    "else:\n",
    "    print(\"CUDA is not available. Running on CPU.\")"
   ]
  },
  {
   "cell_type": "code",
   "execution_count": null,
   "id": "4070ddfa",
   "metadata": {},
   "outputs": [],
   "source": [
    "# Transformers and Datasets, taken from https://pypi.org/project/datasets/\n",
    "from transformers import pipeline\n",
    "from datasets import load_dataset\n",
    "\n",
    "# Print all the available datasets\n",
    "from huggingface_hub import list_datasets\n",
    "print([dataset.id for dataset in list_datasets()])\n",
    "\n",
    "# Load a dataset and print the first example in the training set\n",
    "squad_dataset = load_dataset('rajpurkar/squad')\n",
    "print(squad_dataset['train'][0])\n",
    "\n",
    "# Process the dataset - add a column with the length of the context texts\n",
    "dataset_with_length = squad_dataset.map(lambda x: {\"length\": len(x[\"context\"])})\n",
    "\n",
    "# Process the dataset - tokenize the context texts (using a tokenizer from the 🤗 Transformers library)\n",
    "from transformers import AutoTokenizer\n",
    "tokenizer = AutoTokenizer.from_pretrained('bert-base-cased')\n",
    "\n",
    "tokenized_dataset = squad_dataset.map(lambda x: tokenizer(x['context']), batched=True)\n"
   ]
  },
  {
   "cell_type": "code",
   "execution_count": null,
   "id": "37afd0a4",
   "metadata": {},
   "outputs": [],
   "source": [
    "print(len(squad_dataset['train'][0]))\n",
    "print(len(tokenized_dataset['train'][0]))\n",
    "\n",
    "\n",
    "# First example of the tokenized dataset\n",
    "print(\"Tokenized context:\", tokenized_dataset['train'][0]['input_ids'])"
   ]
  },
  {
   "cell_type": "markdown",
   "id": "5d147c55",
   "metadata": {},
   "source": [
    "# DATA PROCESSING"
   ]
  },
  {
   "cell_type": "code",
   "execution_count": null,
   "id": "6cf89119",
   "metadata": {},
   "outputs": [],
   "source": [
    "import pandas as pd\n",
    "import numpy  as np\n",
    "from sklearn.metrics import accuracy_score\n",
    "\n",
    "try: \n",
    "    # Expected 80% accuracy\n",
    "    y_true = [0, 1, 1, 0, 1]\n",
    "    y_pred = [0, 1, 1, 0, 0]\n",
    "\n",
    "    accuracy = accuracy_score(y_true, y_pred)\n",
    "    print(f\"Accuracy: {accuracy * 100:.2f}%\")\n",
    "\n",
    "except ImportError as e:\n",
    "    print(f\"ImportError: {e}\")\n",
    "    print(\"Please install the required libraries: pandas, numpy, sklearn\")"
   ]
  }
 ],
 "metadata": {
  "kernelspec": {
   "display_name": "sentiment_analizer",
   "language": "python",
   "name": "python3"
  },
  "language_info": {
   "codemirror_mode": {
    "name": "ipython",
    "version": 3
   },
   "file_extension": ".py",
   "mimetype": "text/x-python",
   "name": "python",
   "nbconvert_exporter": "python",
   "pygments_lexer": "ipython3",
   "version": "3.12.6"
  }
 },
 "nbformat": 4,
 "nbformat_minor": 5
}
