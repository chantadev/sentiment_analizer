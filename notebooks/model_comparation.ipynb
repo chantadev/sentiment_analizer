{
  "cells": [
    {
      "cell_type": "markdown",
      "id": "2ccfc973",
      "metadata": {
        "id": "2ccfc973"
      },
      "source": [
        "# Model Comparation\n",
        "This notebook is used for a comparation between 3 models: BERT, RoBERTa, DeepSeek. The model with the best metrics will be selected as the baseline for the application. I'll use Stanford Sentiment Treebank (SST-2) as the testing dataset. Although it's a binary dataset, the first iteration will be a 2-class classification: postive sentiments and negative sentiments."
      ]
    },
    {
      "cell_type": "code",
      "execution_count": null,
      "id": "803967b2",
      "metadata": {
        "id": "803967b2"
      },
      "outputs": [
        {
          "name": "stderr",
          "output_type": "stream",
          "text": [
            "Note: Environment variable`HF_TOKEN` is set and is the current active token independently from the token you've just configured.\n"
          ]
        }
      ],
      "source": [
        "from datasets import load_dataset\n",
        "from huggingface_hub import login\n",
        "\n",
        "# Personal token to log in\n",
        "login(token=hf_token)"
      ]
    },
    {
      "cell_type": "code",
      "execution_count": 16,
      "id": "-9Z9G04TtOk_",
      "metadata": {
        "id": "-9Z9G04TtOk_"
      },
      "outputs": [],
      "source": [
        "from sklearn.metrics import precision_recall_fscore_support, accuracy_score\n",
        "import numpy as np\n",
        "\n",
        "def compute_metrics(eval_pred):\n",
        "    \"\"\"\n",
        "    Computes evaluation metrics from model predictions.\n",
        "\n",
        "    Uses weighted averages for precision, recall, and F1.\n",
        "\n",
        "    Parameter:\n",
        "    - eval_pred: object with 'predictions' and 'label_ids' attributes\n",
        "\n",
        "    Returns:\n",
        "    - dict with 'accuracy', 'f1', 'precision', and 'recall'\n",
        "    \"\"\"\n",
        "    predictions = np.argmax(eval_pred.predictions, axis=1)\n",
        "    precision, recall, f1, _ = precision_recall_fscore_support(\n",
        "        eval_pred.label_ids, predictions, average='weighted'\n",
        "    )\n",
        "    accuracy = accuracy_score(eval_pred.label_ids, predictions)\n",
        "\n",
        "    return {\n",
        "        'accuracy': accuracy,\n",
        "        'f1': f1,\n",
        "        'precision': precision,\n",
        "        'recall': recall\n",
        "    }"
      ]
    },
    {
      "cell_type": "code",
      "execution_count": 17,
      "id": "vRlDrKUKtxqQ",
      "metadata": {
        "id": "vRlDrKUKtxqQ"
      },
      "outputs": [],
      "source": [
        "import pandas as pd\n",
        "def create_comparison_table(results):\n",
        "    \"\"\"\n",
        "    Displays a comparison table of model performance.\n",
        "\n",
        "    Sorts models by F1 score and shows:\n",
        "    - Metrics (accuracy, F1, size, training time)\n",
        "    - Best overall model\n",
        "    - Most efficient model (F1 / (size * time))\n",
        "\n",
        "    Parameter:\n",
        "    - results: list of dicts with keys like 'model_name', 'accuracy', 'f1_score', \n",
        "      'model_size_M', and 'training_time'\n",
        "    \"\"\"\n",
        "    df = pd.DataFrame(results)\n",
        "\n",
        "    # Sort by f1-score\n",
        "    df = df.sort_values('f1_score', ascending=False)\n",
        "\n",
        "    print(\"\\n\" + \"=\"*80)\n",
        "    print(\"MULTILINGUAL SENTIMENT ANALYSIS COMPARISON\")\n",
        "    print(\"=\"*80)\n",
        "\n",
        "    print(\"\\nPerformance Summary:\")\n",
        "    print(df[['model_name', 'accuracy', 'f1_score', 'model_size_M', 'training_time']].to_string(index=False))\n",
        "\n",
        "    print(\"\\n\" + \"=\"*80)\n",
        "\n",
        "    # Best overall\n",
        "    best_overall = df.iloc[0]\n",
        "    print(f\"\\n1. Best Overall Performance:\")\n",
        "    print(f\"   - Model: {best_overall['model_name']}\")\n",
        "    print(f\"   - F1 Score: {best_overall['f1_score']:.4f}\")\n",
        "    print(f\"   - Size: {best_overall['model_size_M']:.1f}M parameters\")\n",
        "\n",
        "    # Most eficient\n",
        "    df['efficiency_score'] = df['f1_score'] / (df['model_size_M'] * df['training_time'])\n",
        "    most_efficient = df.nlargest(1, 'efficiency_score').iloc[0]\n",
        "    print(f\"\\n2. Most Efficient (Performance/Size/Time):\")\n",
        "    print(f\"   - Model: {most_efficient['model_name']}\")\n",
        "    print(f\"   - F1 Score: {most_efficient['f1_score']:.4f}\")\n",
        "    print(f\"   - Size: {most_efficient['model_size_M']:.1f}M parameters\")"
      ]
    },
    {
      "cell_type": "code",
      "execution_count": 18,
      "id": "v1MttkPcsSqv",
      "metadata": {
        "id": "v1MttkPcsSqv"
      },
      "outputs": [],
      "source": [
        "import time\n",
        "import torch\n",
        "from transformers import (\n",
        "    AutoTokenizer,\n",
        "    AutoModelForSequenceClassification,\n",
        "    TrainingArguments,\n",
        "    Trainer,\n",
        "    DataCollatorWithPadding\n",
        ")\n",
        "\n",
        "def evaluate_model(model_name, model_info):\n",
        "    \"\"\"\n",
        "    Loads the model and tokenizer, prepares the data (SST2), trains the model for 2 epochs,\n",
        "    evaluates it, and returns performance metrics and basic model info.\n",
        "\n",
        "    Parameters:\n",
        "    - model_name: str, HuggingFace model identifier\n",
        "    - model_info: dict with model details like 'type', 'languages', and 'num_labels' (optional)\n",
        "\n",
        "    Returns:\n",
        "    - dict with:\n",
        "        'model_name': str\n",
        "        'model_type': str\n",
        "        'languages': str or int\n",
        "        'accuracy': float\n",
        "        'f1_score': float\n",
        "        'model_size_M': float (number of parameters in millions)\n",
        "        'training_time': float (in seconds)\n",
        "    \"\"\"\n",
        "    \n",
        "    print(f\"\\n{'='*60}\")\n",
        "    print(f\"Evaluating: {model_name}\")\n",
        "    print(f\"Type: {model_info['type']}\")\n",
        "    print(f\"Languages supported: {model_info.get('languages', 'N/A')}\")\n",
        "    print(f\"{'='*60}\")\n",
        "\n",
        "    start_time = time.time()\n",
        "\n",
        "    tokenizer = AutoTokenizer.from_pretrained(model_name)\n",
        "    num_labels = model_info.get('num_labels', 2)\n",
        "    model = AutoModelForSequenceClassification.from_pretrained(\n",
        "        model_name,\n",
        "        num_labels=num_labels,\n",
        "        ignore_mismatched_sizes=True\n",
        "    )\n",
        "\n",
        "    # Tokenize\n",
        "    def tokenize_function(examples):\n",
        "        return tokenizer(\n",
        "            examples[\"sentence\"],\n",
        "            truncation=True,\n",
        "            padding=False,\n",
        "            max_length=128  \n",
        "        )\n",
        "\n",
        "    # Data preparation\n",
        "    # Reference: https://huggingface.co/datasets/cardiffnlp/tweet_eval\n",
        "    dataset = load_dataset(\"glue\", \"sst2\")\n",
        "    tokenized_dataset = dataset.map(\n",
        "        tokenize_function,\n",
        "        batched=True,\n",
        "        remove_columns=[\"sentence\", \"idx\"]  # Remove unnecesary data\n",
        "    )\n",
        "\n",
        "    # Split the dataset\n",
        "    train_dataset = tokenized_dataset[\"train\"].select(range(5000))\n",
        "    val_dataset = tokenized_dataset[\"validation\"]\n",
        "    test_dataset = tokenized_dataset[\"test\"]\n",
        "\n",
        "    training_args = TrainingArguments(\n",
        "        output_dir=f\"./results/{model_name.split('/')[-1]}\",\n",
        "        num_train_epochs=2,  # Good results with few epochs\n",
        "        per_device_train_batch_size=32,\n",
        "        per_device_eval_batch_size=64,\n",
        "        warmup_steps=200,\n",
        "        learning_rate=2e-5,\n",
        "\n",
        "        # Evaluation\n",
        "        eval_strategy=\"epoch\",\n",
        "        save_strategy=\"no\",  \n",
        "\n",
        "        gradient_checkpointing=False,  # Removed for efficiency  \n",
        "        # Logging mínimo\n",
        "        logging_steps=500,\n",
        "        report_to=\"none\",\n",
        "        disable_tqdm=False\n",
        "    )\n",
        "\n",
        "    trainer = Trainer(\n",
        "        model=model,\n",
        "        args=training_args,\n",
        "        train_dataset=train_dataset,\n",
        "        eval_dataset=val_dataset,\n",
        "        data_collator=DataCollatorWithPadding(tokenizer),\n",
        "        tokenizer=tokenizer,\n",
        "        compute_metrics=compute_metrics  # Accuracy, f1, recall, precision\n",
        "    )\n",
        "\n",
        "    print(\"Training...\")\n",
        "    train_result = trainer.train()\n",
        "\n",
        "    print(\"Evaluating...\")\n",
        "    eval_results = trainer.evaluate()\n",
        "    total_time = time.time() - start_time\n",
        "    model_size = sum(p.numel() for p in model.parameters()) / 1e6  # En millones\n",
        "\n",
        "    # Save results\n",
        "    result = {\n",
        "        'model_name': model_name,\n",
        "        'model_type': model_info['type'],\n",
        "        'languages': model_info.get('languages', 1),\n",
        "        'accuracy': eval_results['eval_accuracy'],\n",
        "        'f1_score': eval_results['eval_f1'],\n",
        "        'model_size_M': model_size,\n",
        "        'training_time': total_time,\n",
        "    }\n",
        "\n",
        "    # Clean up\n",
        "    del model\n",
        "    del trainer\n",
        "    torch.cuda.empty_cache()\n",
        "\n",
        "    return result"
      ]
    },
    {
      "cell_type": "code",
      "execution_count": 19,
      "id": "O4_LE1JEsbMh",
      "metadata": {
        "id": "O4_LE1JEsbMh"
      },
      "outputs": [],
      "source": [
        "models_to_compare = {\n",
        "            # Multilanguage base\n",
        "            \"xlm-roberta-base\": {\n",
        "                \"type\": \"multilingual_base\",\n",
        "                \"languages\": 100,\n",
        "                \"size\": \"base\",\n",
        "                \"map_to_binary\": False\n",
        "            },\n",
        "\n",
        "            # Multilanguage pre-trained sentiment \n",
        "            \"cardiffnlp/twitter-xlm-roberta-base-sentiment\": {\n",
        "                \"type\": \"multilingual_sentiment\",\n",
        "                \"languages\": 100,\n",
        "                \"num_labels\": 3,\n",
        "                \"map_to_binary\": True\n",
        "            },\n",
        "\n",
        "            # Only English\n",
        "            \"distilbert-base-uncased-finetuned-sst-2-english\": {\n",
        "                \"type\": \"english_baseline\",\n",
        "                \"languages\": 1,\n",
        "                \"size\": \"distilled\",\n",
        "                \"map_to_binary\": False\n",
        "            },\n",
        "\n",
        "            # Small model\n",
        "            \"microsoft/Multilingual-MiniLM-L12-H384\": {\n",
        "                \"type\": \"multilingual_efficient\",\n",
        "                \"languages\": 100,\n",
        "                \"size\": \"mini\",\n",
        "                \"map_to_binary\": False\n",
        "\n",
        "            }\n",
        "        }\n",
        "\n",
        "def run_comparison(models):\n",
        "    \"\"\"\n",
        "    Runs the evaluation and comparison for all models.\n",
        "\n",
        "    For each model:\n",
        "    - Trains and evaluates it using `evaluate_model`\n",
        "    - Collects the results\n",
        "    - Skips models that raise an error\n",
        "\n",
        "    Finally, displays a comparison table with the results.\n",
        "\n",
        "    Parameters:\n",
        "    - models: dict that contains various dicts with model details like 'type', 'languages', and 'num_labels' (optional)\n",
        "    \"\"\"\n",
        "    print(f\"Models to compare: {len(models)}\")\n",
        "    results = []\n",
        "\n",
        "    for model_name, model_info in models.items():\n",
        "        try:\n",
        "            # Save the results for each model\n",
        "            results.append(evaluate_model(model_name, model_info))\n",
        "        except Exception as e:\n",
        "            print(f\"Error with {model_name}: {str(e)}\")\n",
        "            continue\n",
        "\n",
        "    create_comparison_table(results)"
      ]
    },
    {
      "cell_type": "code",
      "execution_count": 20,
      "id": "992ebebc",
      "metadata": {
        "colab": {
          "base_uri": "https://localhost:8080/",
          "height": 581,
          "referenced_widgets": [
            "a386fed04dc04026b1c7b8b5f7f15e54",
            "3ca9f85376374eaf97a9a6fa61c3fc05",
            "2ff93f0cc531435d88bcc3aae7d1eedf",
            "2f6490a83b9e47fc866fa3b7435e460e",
            "a3afa27a7b9d47eea8621c9e4a2d37df",
            "b82ff4d261a8457087d29af3ed48ebbe",
            "7424831700154788baf97ec4d411ffe1",
            "44b6b27c41e642a2b3bfd0e3465e58be",
            "b458a932ed624962bd8aea9d159047d4",
            "6862fc8999844ebaae4f2b6dfc3213fd",
            "e4e840ca006b462e8bf6cf510d8866d6"
          ]
        },
        "id": "992ebebc",
        "outputId": "da9d6a9f-6cfb-49f7-92ed-e6b3933f2866"
      },
      "outputs": [
        {
          "name": "stdout",
          "output_type": "stream",
          "text": [
            "Models to compare: 4\n",
            "\n",
            "============================================================\n",
            "Evaluating: xlm-roberta-base\n",
            "Type: multilingual_base\n",
            "Languages supported: 100\n",
            "============================================================\n"
          ]
        },
        {
          "name": "stderr",
          "output_type": "stream",
          "text": [
            "Some weights of XLMRobertaForSequenceClassification were not initialized from the model checkpoint at xlm-roberta-base and are newly initialized: ['classifier.dense.bias', 'classifier.dense.weight', 'classifier.out_proj.bias', 'classifier.out_proj.weight']\n",
            "You should probably TRAIN this model on a down-stream task to be able to use it for predictions and inference.\n"
          ]
        },
        {
          "data": {
            "application/vnd.jupyter.widget-view+json": {
              "model_id": "69b1753ae86041e0a1364fd8ffb61345",
              "version_major": 2,
              "version_minor": 0
            },
            "text/plain": [
              "Map:   0%|          | 0/1821 [00:00<?, ? examples/s]"
            ]
          },
          "metadata": {},
          "output_type": "display_data"
        },
        {
          "name": "stderr",
          "output_type": "stream",
          "text": [
            "C:\\Users\\Pablo\\AppData\\Local\\Temp\\ipykernel_20816\\2746020531.py:89: FutureWarning: `tokenizer` is deprecated and will be removed in version 5.0.0 for `Trainer.__init__`. Use `processing_class` instead.\n",
            "  trainer = Trainer(\n"
          ]
        },
        {
          "name": "stdout",
          "output_type": "stream",
          "text": [
            "Training...\n"
          ]
        },
        {
          "data": {
            "text/html": [
              "\n",
              "    <div>\n",
              "      \n",
              "      <progress value='314' max='314' style='width:300px; height:20px; vertical-align: middle;'></progress>\n",
              "      [314/314 15:12, Epoch 2/2]\n",
              "    </div>\n",
              "    <table border=\"1\" class=\"dataframe\">\n",
              "  <thead>\n",
              " <tr style=\"text-align: left;\">\n",
              "      <th>Epoch</th>\n",
              "      <th>Training Loss</th>\n",
              "      <th>Validation Loss</th>\n",
              "      <th>Accuracy</th>\n",
              "      <th>F1</th>\n",
              "      <th>Precision</th>\n",
              "      <th>Recall</th>\n",
              "    </tr>\n",
              "  </thead>\n",
              "  <tbody>\n",
              "    <tr>\n",
              "      <td>1</td>\n",
              "      <td>No log</td>\n",
              "      <td>0.453053</td>\n",
              "      <td>0.814220</td>\n",
              "      <td>0.814044</td>\n",
              "      <td>0.814727</td>\n",
              "      <td>0.814220</td>\n",
              "    </tr>\n",
              "    <tr>\n",
              "      <td>2</td>\n",
              "      <td>No log</td>\n",
              "      <td>0.352218</td>\n",
              "      <td>0.858945</td>\n",
              "      <td>0.858729</td>\n",
              "      <td>0.860169</td>\n",
              "      <td>0.858945</td>\n",
              "    </tr>\n",
              "  </tbody>\n",
              "</table><p>"
            ],
            "text/plain": [
              "<IPython.core.display.HTML object>"
            ]
          },
          "metadata": {},
          "output_type": "display_data"
        },
        {
          "name": "stdout",
          "output_type": "stream",
          "text": [
            "Evaluating...\n"
          ]
        },
        {
          "data": {
            "text/html": [
              "\n",
              "    <div>\n",
              "      \n",
              "      <progress value='14' max='14' style='width:300px; height:20px; vertical-align: middle;'></progress>\n",
              "      [14/14 00:16]\n",
              "    </div>\n",
              "    "
            ],
            "text/plain": [
              "<IPython.core.display.HTML object>"
            ]
          },
          "metadata": {},
          "output_type": "display_data"
        },
        {
          "name": "stdout",
          "output_type": "stream",
          "text": [
            "\n",
            "============================================================\n",
            "Evaluating: cardiffnlp/twitter-xlm-roberta-base-sentiment\n",
            "Type: multilingual_sentiment\n",
            "Languages supported: 100\n",
            "============================================================\n",
            "Error with cardiffnlp/twitter-xlm-roberta-base-sentiment: Converting from SentencePiece and Tiktoken failed, if a converter for SentencePiece is available, provide a model path with a SentencePiece tokenizer.model file.Currently available slow->fast converters: ['AlbertTokenizer', 'BartTokenizer', 'BarthezTokenizer', 'BertTokenizer', 'BigBirdTokenizer', 'BlenderbotTokenizer', 'CamembertTokenizer', 'CLIPTokenizer', 'CodeGenTokenizer', 'ConvBertTokenizer', 'DebertaTokenizer', 'DebertaV2Tokenizer', 'DistilBertTokenizer', 'DPRReaderTokenizer', 'DPRQuestionEncoderTokenizer', 'DPRContextEncoderTokenizer', 'ElectraTokenizer', 'FNetTokenizer', 'FunnelTokenizer', 'GPT2Tokenizer', 'HerbertTokenizer', 'LayoutLMTokenizer', 'LayoutLMv2Tokenizer', 'LayoutLMv3Tokenizer', 'LayoutXLMTokenizer', 'LongformerTokenizer', 'LEDTokenizer', 'LxmertTokenizer', 'MarkupLMTokenizer', 'MBartTokenizer', 'MBart50Tokenizer', 'MPNetTokenizer', 'MobileBertTokenizer', 'MvpTokenizer', 'NllbTokenizer', 'OpenAIGPTTokenizer', 'PegasusTokenizer', 'Qwen2Tokenizer', 'RealmTokenizer', 'ReformerTokenizer', 'RemBertTokenizer', 'RetriBertTokenizer', 'RobertaTokenizer', 'RoFormerTokenizer', 'SeamlessM4TTokenizer', 'SqueezeBertTokenizer', 'T5Tokenizer', 'UdopTokenizer', 'WhisperTokenizer', 'XLMRobertaTokenizer', 'XLNetTokenizer', 'SplinterTokenizer', 'XGLMTokenizer', 'LlamaTokenizer', 'CodeLlamaTokenizer', 'GemmaTokenizer', 'Phi3Tokenizer']\n",
            "\n",
            "============================================================\n",
            "Evaluating: distilbert-base-uncased-finetuned-sst-2-english\n",
            "Type: english_baseline\n",
            "Languages supported: 1\n",
            "============================================================\n"
          ]
        },
        {
          "data": {
            "application/vnd.jupyter.widget-view+json": {
              "model_id": "135b0b8ad94f4433b5c68fb626741d61",
              "version_major": 2,
              "version_minor": 0
            },
            "text/plain": [
              "Map:   0%|          | 0/1821 [00:00<?, ? examples/s]"
            ]
          },
          "metadata": {},
          "output_type": "display_data"
        },
        {
          "name": "stderr",
          "output_type": "stream",
          "text": [
            "C:\\Users\\Pablo\\AppData\\Local\\Temp\\ipykernel_20816\\2746020531.py:89: FutureWarning: `tokenizer` is deprecated and will be removed in version 5.0.0 for `Trainer.__init__`. Use `processing_class` instead.\n",
            "  trainer = Trainer(\n"
          ]
        },
        {
          "name": "stdout",
          "output_type": "stream",
          "text": [
            "Training...\n"
          ]
        },
        {
          "data": {
            "text/html": [
              "\n",
              "    <div>\n",
              "      \n",
              "      <progress value='314' max='314' style='width:300px; height:20px; vertical-align: middle;'></progress>\n",
              "      [314/314 04:50, Epoch 2/2]\n",
              "    </div>\n",
              "    <table border=\"1\" class=\"dataframe\">\n",
              "  <thead>\n",
              " <tr style=\"text-align: left;\">\n",
              "      <th>Epoch</th>\n",
              "      <th>Training Loss</th>\n",
              "      <th>Validation Loss</th>\n",
              "      <th>Accuracy</th>\n",
              "      <th>F1</th>\n",
              "      <th>Precision</th>\n",
              "      <th>Recall</th>\n",
              "    </tr>\n",
              "  </thead>\n",
              "  <tbody>\n",
              "    <tr>\n",
              "      <td>1</td>\n",
              "      <td>No log</td>\n",
              "      <td>0.417077</td>\n",
              "      <td>0.902523</td>\n",
              "      <td>0.902451</td>\n",
              "      <td>0.903067</td>\n",
              "      <td>0.902523</td>\n",
              "    </tr>\n",
              "    <tr>\n",
              "      <td>2</td>\n",
              "      <td>No log</td>\n",
              "      <td>0.499975</td>\n",
              "      <td>0.902523</td>\n",
              "      <td>0.902438</td>\n",
              "      <td>0.903212</td>\n",
              "      <td>0.902523</td>\n",
              "    </tr>\n",
              "  </tbody>\n",
              "</table><p>"
            ],
            "text/plain": [
              "<IPython.core.display.HTML object>"
            ]
          },
          "metadata": {},
          "output_type": "display_data"
        },
        {
          "name": "stdout",
          "output_type": "stream",
          "text": [
            "Evaluating...\n"
          ]
        },
        {
          "data": {
            "text/html": [
              "\n",
              "    <div>\n",
              "      \n",
              "      <progress value='14' max='14' style='width:300px; height:20px; vertical-align: middle;'></progress>\n",
              "      [14/14 00:06]\n",
              "    </div>\n",
              "    "
            ],
            "text/plain": [
              "<IPython.core.display.HTML object>"
            ]
          },
          "metadata": {},
          "output_type": "display_data"
        },
        {
          "name": "stdout",
          "output_type": "stream",
          "text": [
            "\n",
            "============================================================\n",
            "Evaluating: microsoft/Multilingual-MiniLM-L12-H384\n",
            "Type: multilingual_efficient\n",
            "Languages supported: 100\n",
            "============================================================\n",
            "Error with microsoft/Multilingual-MiniLM-L12-H384: Converting from SentencePiece and Tiktoken failed, if a converter for SentencePiece is available, provide a model path with a SentencePiece tokenizer.model file.Currently available slow->fast converters: ['AlbertTokenizer', 'BartTokenizer', 'BarthezTokenizer', 'BertTokenizer', 'BigBirdTokenizer', 'BlenderbotTokenizer', 'CamembertTokenizer', 'CLIPTokenizer', 'CodeGenTokenizer', 'ConvBertTokenizer', 'DebertaTokenizer', 'DebertaV2Tokenizer', 'DistilBertTokenizer', 'DPRReaderTokenizer', 'DPRQuestionEncoderTokenizer', 'DPRContextEncoderTokenizer', 'ElectraTokenizer', 'FNetTokenizer', 'FunnelTokenizer', 'GPT2Tokenizer', 'HerbertTokenizer', 'LayoutLMTokenizer', 'LayoutLMv2Tokenizer', 'LayoutLMv3Tokenizer', 'LayoutXLMTokenizer', 'LongformerTokenizer', 'LEDTokenizer', 'LxmertTokenizer', 'MarkupLMTokenizer', 'MBartTokenizer', 'MBart50Tokenizer', 'MPNetTokenizer', 'MobileBertTokenizer', 'MvpTokenizer', 'NllbTokenizer', 'OpenAIGPTTokenizer', 'PegasusTokenizer', 'Qwen2Tokenizer', 'RealmTokenizer', 'ReformerTokenizer', 'RemBertTokenizer', 'RetriBertTokenizer', 'RobertaTokenizer', 'RoFormerTokenizer', 'SeamlessM4TTokenizer', 'SqueezeBertTokenizer', 'T5Tokenizer', 'UdopTokenizer', 'WhisperTokenizer', 'XLMRobertaTokenizer', 'XLNetTokenizer', 'SplinterTokenizer', 'XGLMTokenizer', 'LlamaTokenizer', 'CodeLlamaTokenizer', 'GemmaTokenizer', 'Phi3Tokenizer']\n",
            "\n",
            "================================================================================\n",
            "MULTILINGUAL SENTIMENT ANALYSIS COMPARISON\n",
            "================================================================================\n",
            "\n",
            "Performance Summary:\n",
            "                                     model_name  accuracy  f1_score  model_size_M  training_time\n",
            "distilbert-base-uncased-finetuned-sst-2-english  0.902523  0.902438     66.955010     306.159774\n",
            "                               xlm-roberta-base  0.858945  0.858729    278.045186     940.379934\n",
            "\n",
            "================================================================================\n",
            "\n",
            "1. Best Overall Performance:\n",
            "   - Model: distilbert-base-uncased-finetuned-sst-2-english\n",
            "   - F1 Score: 0.9024\n",
            "   - Size: 67.0M parameters\n",
            "\n",
            "2. Most Efficient (Performance/Size/Time):\n",
            "   - Model: distilbert-base-uncased-finetuned-sst-2-english\n",
            "   - F1 Score: 0.9024\n",
            "   - Size: 67.0M parameters\n"
          ]
        }
      ],
      "source": [
        "import numpy as np\n",
        "import torch, random\n",
        "\n",
        "# Set seed\n",
        "seed = 42\n",
        "random.seed(seed)\n",
        "np.random.seed(seed)\n",
        "torch.manual_seed(seed)\n",
        "if torch.cuda.is_available():\n",
        "    torch.cuda.manual_seed_all(seed)\n",
        "\n",
        "run_comparison(models_to_compare)"
      ]
    }
  ],
  "metadata": {
    "accelerator": "GPU",
    "colab": {
      "gpuType": "T4",
      "provenance": []
    },
    "kernelspec": {
      "display_name": "Python 3",
      "name": "python3"
    },
    "language_info": {
      "codemirror_mode": {
        "name": "ipython",
        "version": 3
      },
      "file_extension": ".py",
      "mimetype": "text/x-python",
      "name": "python",
      "nbconvert_exporter": "python",
      "pygments_lexer": "ipython3",
      "version": "3.12.6"
    },
    "widgets": {
      "application/vnd.jupyter.widget-state+json": {
        "2f6490a83b9e47fc866fa3b7435e460e": {
          "model_module": "@jupyter-widgets/controls",
          "model_module_version": "1.5.0",
          "model_name": "HTMLModel",
          "state": {
            "_dom_classes": [],
            "_model_module": "@jupyter-widgets/controls",
            "_model_module_version": "1.5.0",
            "_model_name": "HTMLModel",
            "_view_count": null,
            "_view_module": "@jupyter-widgets/controls",
            "_view_module_version": "1.5.0",
            "_view_name": "HTMLView",
            "description": "",
            "description_tooltip": null,
            "layout": "IPY_MODEL_6862fc8999844ebaae4f2b6dfc3213fd",
            "placeholder": "​",
            "style": "IPY_MODEL_e4e840ca006b462e8bf6cf510d8866d6",
            "value": " 1821/1821 [00:00&lt;00:00, 2725.04 examples/s]"
          }
        },
        "2ff93f0cc531435d88bcc3aae7d1eedf": {
          "model_module": "@jupyter-widgets/controls",
          "model_module_version": "1.5.0",
          "model_name": "FloatProgressModel",
          "state": {
            "_dom_classes": [],
            "_model_module": "@jupyter-widgets/controls",
            "_model_module_version": "1.5.0",
            "_model_name": "FloatProgressModel",
            "_view_count": null,
            "_view_module": "@jupyter-widgets/controls",
            "_view_module_version": "1.5.0",
            "_view_name": "ProgressView",
            "bar_style": "success",
            "description": "",
            "description_tooltip": null,
            "layout": "IPY_MODEL_44b6b27c41e642a2b3bfd0e3465e58be",
            "max": 1821,
            "min": 0,
            "orientation": "horizontal",
            "style": "IPY_MODEL_b458a932ed624962bd8aea9d159047d4",
            "value": 1821
          }
        },
        "3ca9f85376374eaf97a9a6fa61c3fc05": {
          "model_module": "@jupyter-widgets/controls",
          "model_module_version": "1.5.0",
          "model_name": "HTMLModel",
          "state": {
            "_dom_classes": [],
            "_model_module": "@jupyter-widgets/controls",
            "_model_module_version": "1.5.0",
            "_model_name": "HTMLModel",
            "_view_count": null,
            "_view_module": "@jupyter-widgets/controls",
            "_view_module_version": "1.5.0",
            "_view_name": "HTMLView",
            "description": "",
            "description_tooltip": null,
            "layout": "IPY_MODEL_b82ff4d261a8457087d29af3ed48ebbe",
            "placeholder": "​",
            "style": "IPY_MODEL_7424831700154788baf97ec4d411ffe1",
            "value": "Map: 100%"
          }
        },
        "44b6b27c41e642a2b3bfd0e3465e58be": {
          "model_module": "@jupyter-widgets/base",
          "model_module_version": "1.2.0",
          "model_name": "LayoutModel",
          "state": {
            "_model_module": "@jupyter-widgets/base",
            "_model_module_version": "1.2.0",
            "_model_name": "LayoutModel",
            "_view_count": null,
            "_view_module": "@jupyter-widgets/base",
            "_view_module_version": "1.2.0",
            "_view_name": "LayoutView",
            "align_content": null,
            "align_items": null,
            "align_self": null,
            "border": null,
            "bottom": null,
            "display": null,
            "flex": null,
            "flex_flow": null,
            "grid_area": null,
            "grid_auto_columns": null,
            "grid_auto_flow": null,
            "grid_auto_rows": null,
            "grid_column": null,
            "grid_gap": null,
            "grid_row": null,
            "grid_template_areas": null,
            "grid_template_columns": null,
            "grid_template_rows": null,
            "height": null,
            "justify_content": null,
            "justify_items": null,
            "left": null,
            "margin": null,
            "max_height": null,
            "max_width": null,
            "min_height": null,
            "min_width": null,
            "object_fit": null,
            "object_position": null,
            "order": null,
            "overflow": null,
            "overflow_x": null,
            "overflow_y": null,
            "padding": null,
            "right": null,
            "top": null,
            "visibility": null,
            "width": null
          }
        },
        "6862fc8999844ebaae4f2b6dfc3213fd": {
          "model_module": "@jupyter-widgets/base",
          "model_module_version": "1.2.0",
          "model_name": "LayoutModel",
          "state": {
            "_model_module": "@jupyter-widgets/base",
            "_model_module_version": "1.2.0",
            "_model_name": "LayoutModel",
            "_view_count": null,
            "_view_module": "@jupyter-widgets/base",
            "_view_module_version": "1.2.0",
            "_view_name": "LayoutView",
            "align_content": null,
            "align_items": null,
            "align_self": null,
            "border": null,
            "bottom": null,
            "display": null,
            "flex": null,
            "flex_flow": null,
            "grid_area": null,
            "grid_auto_columns": null,
            "grid_auto_flow": null,
            "grid_auto_rows": null,
            "grid_column": null,
            "grid_gap": null,
            "grid_row": null,
            "grid_template_areas": null,
            "grid_template_columns": null,
            "grid_template_rows": null,
            "height": null,
            "justify_content": null,
            "justify_items": null,
            "left": null,
            "margin": null,
            "max_height": null,
            "max_width": null,
            "min_height": null,
            "min_width": null,
            "object_fit": null,
            "object_position": null,
            "order": null,
            "overflow": null,
            "overflow_x": null,
            "overflow_y": null,
            "padding": null,
            "right": null,
            "top": null,
            "visibility": null,
            "width": null
          }
        },
        "7424831700154788baf97ec4d411ffe1": {
          "model_module": "@jupyter-widgets/controls",
          "model_module_version": "1.5.0",
          "model_name": "DescriptionStyleModel",
          "state": {
            "_model_module": "@jupyter-widgets/controls",
            "_model_module_version": "1.5.0",
            "_model_name": "DescriptionStyleModel",
            "_view_count": null,
            "_view_module": "@jupyter-widgets/base",
            "_view_module_version": "1.2.0",
            "_view_name": "StyleView",
            "description_width": ""
          }
        },
        "a386fed04dc04026b1c7b8b5f7f15e54": {
          "model_module": "@jupyter-widgets/controls",
          "model_module_version": "1.5.0",
          "model_name": "HBoxModel",
          "state": {
            "_dom_classes": [],
            "_model_module": "@jupyter-widgets/controls",
            "_model_module_version": "1.5.0",
            "_model_name": "HBoxModel",
            "_view_count": null,
            "_view_module": "@jupyter-widgets/controls",
            "_view_module_version": "1.5.0",
            "_view_name": "HBoxView",
            "box_style": "",
            "children": [
              "IPY_MODEL_3ca9f85376374eaf97a9a6fa61c3fc05",
              "IPY_MODEL_2ff93f0cc531435d88bcc3aae7d1eedf",
              "IPY_MODEL_2f6490a83b9e47fc866fa3b7435e460e"
            ],
            "layout": "IPY_MODEL_a3afa27a7b9d47eea8621c9e4a2d37df"
          }
        },
        "a3afa27a7b9d47eea8621c9e4a2d37df": {
          "model_module": "@jupyter-widgets/base",
          "model_module_version": "1.2.0",
          "model_name": "LayoutModel",
          "state": {
            "_model_module": "@jupyter-widgets/base",
            "_model_module_version": "1.2.0",
            "_model_name": "LayoutModel",
            "_view_count": null,
            "_view_module": "@jupyter-widgets/base",
            "_view_module_version": "1.2.0",
            "_view_name": "LayoutView",
            "align_content": null,
            "align_items": null,
            "align_self": null,
            "border": null,
            "bottom": null,
            "display": null,
            "flex": null,
            "flex_flow": null,
            "grid_area": null,
            "grid_auto_columns": null,
            "grid_auto_flow": null,
            "grid_auto_rows": null,
            "grid_column": null,
            "grid_gap": null,
            "grid_row": null,
            "grid_template_areas": null,
            "grid_template_columns": null,
            "grid_template_rows": null,
            "height": null,
            "justify_content": null,
            "justify_items": null,
            "left": null,
            "margin": null,
            "max_height": null,
            "max_width": null,
            "min_height": null,
            "min_width": null,
            "object_fit": null,
            "object_position": null,
            "order": null,
            "overflow": null,
            "overflow_x": null,
            "overflow_y": null,
            "padding": null,
            "right": null,
            "top": null,
            "visibility": null,
            "width": null
          }
        },
        "b458a932ed624962bd8aea9d159047d4": {
          "model_module": "@jupyter-widgets/controls",
          "model_module_version": "1.5.0",
          "model_name": "ProgressStyleModel",
          "state": {
            "_model_module": "@jupyter-widgets/controls",
            "_model_module_version": "1.5.0",
            "_model_name": "ProgressStyleModel",
            "_view_count": null,
            "_view_module": "@jupyter-widgets/base",
            "_view_module_version": "1.2.0",
            "_view_name": "StyleView",
            "bar_color": null,
            "description_width": ""
          }
        },
        "b82ff4d261a8457087d29af3ed48ebbe": {
          "model_module": "@jupyter-widgets/base",
          "model_module_version": "1.2.0",
          "model_name": "LayoutModel",
          "state": {
            "_model_module": "@jupyter-widgets/base",
            "_model_module_version": "1.2.0",
            "_model_name": "LayoutModel",
            "_view_count": null,
            "_view_module": "@jupyter-widgets/base",
            "_view_module_version": "1.2.0",
            "_view_name": "LayoutView",
            "align_content": null,
            "align_items": null,
            "align_self": null,
            "border": null,
            "bottom": null,
            "display": null,
            "flex": null,
            "flex_flow": null,
            "grid_area": null,
            "grid_auto_columns": null,
            "grid_auto_flow": null,
            "grid_auto_rows": null,
            "grid_column": null,
            "grid_gap": null,
            "grid_row": null,
            "grid_template_areas": null,
            "grid_template_columns": null,
            "grid_template_rows": null,
            "height": null,
            "justify_content": null,
            "justify_items": null,
            "left": null,
            "margin": null,
            "max_height": null,
            "max_width": null,
            "min_height": null,
            "min_width": null,
            "object_fit": null,
            "object_position": null,
            "order": null,
            "overflow": null,
            "overflow_x": null,
            "overflow_y": null,
            "padding": null,
            "right": null,
            "top": null,
            "visibility": null,
            "width": null
          }
        },
        "e4e840ca006b462e8bf6cf510d8866d6": {
          "model_module": "@jupyter-widgets/controls",
          "model_module_version": "1.5.0",
          "model_name": "DescriptionStyleModel",
          "state": {
            "_model_module": "@jupyter-widgets/controls",
            "_model_module_version": "1.5.0",
            "_model_name": "DescriptionStyleModel",
            "_view_count": null,
            "_view_module": "@jupyter-widgets/base",
            "_view_module_version": "1.2.0",
            "_view_name": "StyleView",
            "description_width": ""
          }
        }
      }
    }
  },
  "nbformat": 4,
  "nbformat_minor": 5
}
